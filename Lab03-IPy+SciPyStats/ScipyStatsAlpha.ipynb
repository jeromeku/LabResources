{
 "metadata": {
  "name": "",
  "signature": "sha256:1ce74569c5cfd61d9b7da7f1648bd09f391cd5cb9b2025c34fc96553011579d8"
 },
 "nbformat": 3,
 "nbformat_minor": 0,
 "worksheets": [
  {
   "cells": [
    {
     "cell_type": "heading",
     "level": 1,
     "metadata": {},
     "source": [
      "Scipy.stats"
     ]
    },
    {
     "cell_type": "markdown",
     "metadata": {},
     "source": [
      "*First we will look at*\n",
      "[the scipy.stats documentation](http://docs.scipy.org/doc/scipy/reference/stats.html)\n"
     ]
    },
    {
     "cell_type": "markdown",
     "metadata": {},
     "source": [
      "<!-- PELICAN_BEGIN_SUMMARY -->\n",
      "Scipy.stats provides many distributions, each of which is an instance of a random variable class (either rv_continuous or rv_discrete).\n",
      "\n",
      "For example, beta *is-a* rv_continuous.  And, bernoulli *is-a* rv_discrete.\n",
      "<!-- PELICAN_END_SUMMARY -->"
     ]
    },
    {
     "cell_type": "code",
     "collapsed": false,
     "input": [
      "from scipy.stats import beta, bernoulli, binom\n",
      "\n",
      "a, b = 2.30984964515, 0.62687954301\n",
      "my_beta=beta(a, b)\n",
      "print \"beta is-a \" + str(type(beta))\n",
      "print \"bernoulli is-a \" + str(type(bernoulli))"
     ],
     "language": "python",
     "metadata": {},
     "outputs": [
      {
       "output_type": "stream",
       "stream": "stdout",
       "text": [
        "beta is-a <class 'scipy.stats._continuous_distns.beta_gen'>\n",
        "bernoulli is-a <class 'scipy.stats._discrete_distns.bernoulli_gen'>\n"
       ]
      }
     ],
     "prompt_number": 1
    },
    {
     "cell_type": "markdown",
     "metadata": {},
     "source": [
      "<!-- PELICAN_BEGIN_SUMMARY -->\n",
      "Because a distribution is an instance of the rv_continuous (or rv_discrete) class, it inherits all the methods of its class. \n",
      "<!-- PELICAN_END_SUMMARY -->"
     ]
    },
    {
     "cell_type": "markdown",
     "metadata": {},
     "source": [
      "[the scipy.stats documentation](http://docs.scipy.org/doc/scipy/reference/stats.html)"
     ]
    },
    {
     "cell_type": "heading",
     "level": 2,
     "metadata": {},
     "source": [
      "Distributions"
     ]
    },
    {
     "cell_type": "markdown",
     "metadata": {},
     "source": [
      "##A bit of Bayesian Inference\n",
      "\n",
      "* $x$, a data point in general. This may in fact be a vector of values.\n",
      "* $\\theta$, the parameter of the data point's distribution, i.e., $x \\sim p(x \\mid \\theta)$ . This may in fact be a vector of parameters.\n",
      "* $\\alpha$, the hyperparameter of the parameter, i.e., $\\theta \\sim p(\\theta \\mid \\alpha)$ . This may in fact be a vector of hyperparameters.\n",
      "* $\\mathbf{X}$, a set of n observed data points, i.e., $x_1,\\ldots,x_n$.\n",
      "* $\\tilde{x}$, a new data point whose distribution is to be predicted.\n",
      "\n",
      "\n",
      "+ Prior distribution is the distribution of the\n",
      "parameter(s) before any data is observed, i.e. $p(\\theta \\mid \\alpha) $.\n",
      "\n",
      "  The prior distribution might not be easily determined. In this case, we can use the Jeffreys prior to obtain the posterior distribution before updating them with newer observations.\n",
      "+ The sampling distribution is the distribution of the observed data conditional on its parameters, i.e. $p(\\mathbf{X} \\mid \\theta)$ . This is also termed the likelihood, especially when viewed as a function of the parameter(s), sometimes written $\\operatorname{L}(\\theta  \\mid \\mathbf{X}) = p(\\mathbf{X} \\mid \\theta)$ .\n",
      "+ The marginal likelihood (sometimes also termed the evidence) is the distribution of the observed data marginalized over the parameter(s), i.e. $p(\\mathbf{X} \\mid \\alpha) = \\int_{\\theta} p(\\mathbf{X} \\mid \\theta) p(\\theta \\mid \\alpha) \\operatorname{d}\\!\\theta $.\n",
      "+ The posterior distribution is the distribution of the parameter(s) after taking into account the observed data. This is determined by Bayes' rule, which forms the heart of Bayesian inference:\n",
      "$p(\\theta \\mid \\mathbf{X},\\alpha) = \\frac{p(\\mathbf{X} \\mid \\theta) p(\\theta \\mid \\alpha)}{p(\\mathbf{X} \\mid \\alpha)} \\propto p(\\mathbf{X} \\mid \\theta) p(\\theta \\mid \\alpha)$\n",
      "\n",
      "  Note that this is expressed in words as \"posterior is proportional to likelihood times prior\", or sometimes as \"posterior = likelihood times prior, over evidence\"."
     ]
    },
    {
     "cell_type": "heading",
     "level": 3,
     "metadata": {},
     "source": [
      "Bernoulli"
     ]
    },
    {
     "cell_type": "markdown",
     "metadata": {},
     "source": [
      "The conjugate prior probability distribution for the Bernoulli, binomial, negative binomial and geometric distributions.\n",
      "\n",
      "$X \\sim Bern(p)$\n",
      "\n",
      "$X\\ \\in \\{0,1\\} $ \n",
      "\n",
      "probability $p \\in (0,1) $"
     ]
    },
    {
     "cell_type": "code",
     "collapsed": false,
     "input": [
      "%matplotlib inline\n",
      "import matplotlib.pyplot as plt\n",
      "import numpy as np\n",
      "\n",
      "fig, ax = plt.subplots(1, 1)\n",
      "p = 0.7\n",
      "mean, var, skew, kurt = bernoulli.stats(p, moments='mvsk')\n",
      "print \" mean=%s \\n var=%s \\n skew=%s \\n kurt=%s\" %(mean, var, skew, kurt)\n",
      "x = np.arange(bernoulli.ppf(0.01, p),\n",
      "               bernoulli.ppf(0.99, p))\n",
      "ax.plot(x, bernoulli.pmf(x, p), 'bo', ms=8, label='bernoulli pmf')\n",
      "ax.vlines(x, 0, bernoulli.pmf(x, p), colors='b', lw=5, alpha=0.5)\n"
     ],
     "language": "python",
     "metadata": {},
     "outputs": [
      {
       "output_type": "stream",
       "stream": "stdout",
       "text": [
        " mean=0.7 \n",
        " var=0.21 \n",
        " skew=-0.872871560944 \n",
        " kurt=-1.2380952381\n"
       ]
      },
      {
       "metadata": {},
       "output_type": "pyout",
       "prompt_number": 2,
       "text": [
        "<matplotlib.collections.LineCollection at 0x1078fff90>"
       ]
      },
      {
       "metadata": {},
       "output_type": "display_data",
       "png": "[encoded data removed]",
       "text": [
        "<matplotlib.figure.Figure at 0x10677e5d0>"
       ]
      }
     ],
     "prompt_number": 2
    },
    {
     "cell_type": "heading",
     "level": 3,
     "metadata": {},
     "source": [
      "Binomial"
     ]
    },
    {
     "cell_type": "markdown",
     "metadata": {},
     "source": [
      "The conjugate prior probability distribution for the Bernoulli, binomial, negative binomial and geometric distributions.\n",
      "\n",
      "$X \\sim Binom(n,p)$\n",
      "\n",
      "$X\\ \\in \\{0,n\\} $ \n",
      "\n",
      "trials $n>0$\n",
      "\n",
      "probability $p \\in (0,1) $"
     ]
    },
    {
     "cell_type": "code",
     "collapsed": false,
     "input": [
      "%matplotlib inline\n",
      "\n",
      "fig, ax = plt.subplots(1, 1)\n",
      "n, p = 5, 0.4\n",
      "mean, var, skew, kurt = binom.stats(n, p, moments='mvsk')\n",
      "print \" mean=%s \\n var=%s \\n skew=%s \\n kurt=%s\" %(mean, var, skew, kurt)\n",
      "x = np.arange(binom.ppf(0.01, n, p),\n",
      "              binom.ppf(0.99, n, p))\n",
      "ax.plot(x, binom.pmf(x, n, p), 'bo', ms=8, label='binom pmf')\n",
      "ax.vlines(x, 0, binom.pmf(x, n, p), colors='b', lw=5, alpha=0.5)"
     ],
     "language": "python",
     "metadata": {},
     "outputs": [
      {
       "output_type": "stream",
       "stream": "stdout",
       "text": [
        " mean=2.0 \n",
        " var=1.2 \n",
        " skew=0.182574185835 \n",
        " kurt=-0.366666666667\n"
       ]
      },
      {
       "metadata": {},
       "output_type": "pyout",
       "prompt_number": 3,
       "text": [
        "<matplotlib.collections.LineCollection at 0x107a661d0>"
       ]
      },
      {
       "metadata": {},
       "output_type": "display_data",
       "png": "[encoded data removed]",
       "text": [
        "<matplotlib.figure.Figure at 0x107974310>"
       ]
      }
     ],
     "prompt_number": 3
    },
    {
     "cell_type": "heading",
     "level": 3,
     "metadata": {},
     "source": [
      "Beta"
     ]
    },
    {
     "cell_type": "markdown",
     "metadata": {},
     "source": [
      "The conjugate prior probability distribution for the Bernoulli, binomial, negative binomial and geometric distributions.\n",
      "\n",
      "$X \\sim Beta(\\alpha, \\beta)$\n",
      "\n",
      "$X\\ \\in (0,1) $ \n",
      "\n",
      "shape $\\alpha >0 $\n",
      "\n",
      "shape $\\beta >0 $"
     ]
    },
    {
     "cell_type": "code",
     "collapsed": false,
     "input": [
      "%matplotlib inline\n",
      "\n",
      "import matplotlib.pyplot as plt\n",
      "import numpy as np\n",
      "fig, ax = plt.subplots(1, 1)\n",
      "mean, var, skew, kurt = beta.stats(a, b, moments='mvsk')\n",
      "print \" mean=%s \\n var=%s \\n skew=%s \\n kurt=%s\" %(mean, var, skew, kurt)\n",
      "x = np.linspace(beta.ppf(0.01, a, b),\n",
      "               beta.ppf(0.99, a, b), 100)\n",
      "ax.plot(x, beta.pdf(x, a, b),\n",
      "          'r-', lw=5, alpha=0.6, label='beta pdf')\n"
     ],
     "language": "python",
     "metadata": {},
     "outputs": [
      {
       "output_type": "stream",
       "stream": "stdout",
       "text": [
        " mean=0.786538184884 \n",
        " var=0.0426485695558 \n",
        " skew=-1.12421909641 \n",
        " kurt=0.565810774353\n"
       ]
      },
      {
       "metadata": {},
       "output_type": "pyout",
       "prompt_number": 4,
       "text": [
        "[<matplotlib.lines.Line2D at 0x107b81990>]"
       ]
      },
      {
       "metadata": {},
       "output_type": "display_data",
       "png": "[encoded data removed]",
       "text": [
        "<matplotlib.figure.Figure at 0x1040b2f10>"
       ]
      }
     ],
     "prompt_number": 4
    },
    {
     "cell_type": "markdown",
     "metadata": {},
     "source": [
      "Alternatively, there's also a *frozen pdf* is an object in which  the distribution parameters are set, as below:"
     ]
    },
    {
     "cell_type": "code",
     "collapsed": false,
     "input": [
      "%matplotlib inline\n",
      "fig, ax = plt.subplots(1, 1)\n",
      "rv = beta(a, b)  #we create the frozen distribution here\n",
      "#print type(rv)\n",
      "ax.plot(x, rv.pdf(x), 'k-', lw=2, label='frozen pdf')"
     ],
     "language": "python",
     "metadata": {},
     "outputs": [
      {
       "metadata": {},
       "output_type": "pyout",
       "prompt_number": 5,
       "text": [
        "[<matplotlib.lines.Line2D at 0x107db5c10>]"
       ]
      },
      {
       "metadata": {},
       "output_type": "display_data",
       "png": "[encoded data removed]",
       "text": [
        "<matplotlib.figure.Figure at 0x1040b2850>"
       ]
      }
     ],
     "prompt_number": 5
    },
    {
     "cell_type": "markdown",
     "metadata": {},
     "source": [
      "This is in constrast to our previous usage, in which we supply the distribution parameters to every call."
     ]
    },
    {
     "cell_type": "heading",
     "level": 2,
     "metadata": {},
     "source": [
      "Understanding and Building Plots"
     ]
    },
    {
     "cell_type": "heading",
     "level": 3,
     "metadata": {},
     "source": [
      "Building a histogram of a beta distribution"
     ]
    },
    {
     "cell_type": "markdown",
     "metadata": {},
     "source": [
      "Animation embedding adapted from the extremely useful [Pythonic Perambulations](https://jakevdp.github.io/blog/2013/05/12/embedding-matplotlib-animations/)"
     ]
    },
    {
     "cell_type": "code",
     "collapsed": false,
     "input": [
      "%pylab inline\n",
      "from tempfile import NamedTemporaryFile\n",
      "from IPython.display import HTML\n",
      "\n",
      "VIDEO_TAG = \"\"\"<video controls>\n",
      " <source src=\"data:video/x-m4v;base64,{0}\" type=\"video/mp4\">\n",
      " Your browser does not support the video tag.\n",
      "</video>\"\"\"\n",
      "\n",
      "def anim_to_html(anim):\n",
      "    if not hasattr(anim, '_encoded_video'):\n",
      "        with NamedTemporaryFile(suffix='.mp4') as f:\n",
      "            anim.save(f.name, fps=20, extra_args=['-vcodec', 'libx264'])\n",
      "            video = open(f.name, \"rb\").read()\n",
      "        anim._encoded_video = video.encode(\"base64\")\n",
      "    \n",
      "    return VIDEO_TAG.format(anim._encoded_video)\n",
      "\n",
      "\n",
      "def display_animation(anim):\n",
      "    plt.close(anim._fig)\n",
      "    return HTML(anim_to_html(anim))\n",
      "\n"
     ],
     "language": "python",
     "metadata": {},
     "outputs": [
      {
       "output_type": "stream",
       "stream": "stdout",
       "text": [
        "Populating the interactive namespace from numpy and matplotlib\n"
       ]
      },
      {
       "output_type": "stream",
       "stream": "stderr",
       "text": [
        "WARNING: pylab import has clobbered these variables: ['var', 'beta', 'mean']\n",
        "`%matplotlib` prevents importing * from pylab and numpy\n"
       ]
      }
     ],
     "prompt_number": 6
    },
    {
     "cell_type": "code",
     "collapsed": false,
     "input": [
      "import matplotlib.patches as patches\n",
      "import matplotlib.path as path\n",
      "import matplotlib.animation as animation\n",
      "from scipy.stats import beta\n",
      "fig, ax = plt.subplots()\n",
      "\n",
      "# histogram our data with numpy\n",
      "a, b = 2.30984964515, 0.62687954301\n",
      "data = beta.rvs(a, b, size=500)\n",
      "n, bins = np.histogram(data, 50)\n",
      "\n",
      "# get the corners of the rectangles for the histogram\n",
      "left = np.array(bins[:-1])\n",
      "right = np.array(bins[1:])\n",
      "bottom = np.zeros(len(left))\n",
      "top = bottom + n\n",
      "nrects = len(left)\n",
      "\n",
      "# here comes the tricky part -- we have to set up the vertex and path\n",
      "# codes arrays using moveto, lineto and closepoly\n",
      "\n",
      "# for each rect: 1 for the MOVETO, 3 for the LINETO, 1 for the\n",
      "# CLOSEPOLY; the vert for the closepoly is ignored but we still need\n",
      "# it to keep the codes aligned with the vertices\n",
      "nverts = nrects*(1+3+1)\n",
      "verts = np.zeros((nverts, 2))\n",
      "codes = np.ones(nverts, int) * path.Path.LINETO\n",
      "codes[0::5] = path.Path.MOVETO\n",
      "codes[4::5] = path.Path.CLOSEPOLY\n",
      "verts[0::5,0] = left\n",
      "verts[0::5,1] = bottom\n",
      "verts[1::5,0] = left\n",
      "verts[1::5,1] = top\n",
      "verts[2::5,0] = right\n",
      "verts[2::5,1] = top\n",
      "verts[3::5,0] = right\n",
      "verts[3::5,1] = bottom\n",
      "\n",
      "barpath = path.Path(verts, codes)\n",
      "patch = patches.PathPatch(barpath, facecolor='green', edgecolor='yellow', alpha=0.5)\n",
      "ax.add_patch(patch)\n",
      "\n",
      "ax.set_xlim(left[0], right[-1])\n",
      "ax.set_ylim(bottom.min(),75)\n",
      "a, b =2.30984964515, 0.62687954301   ####let's change\n",
      "data = beta.rvs(a, b, size=500)\n",
      "\n",
      "def animate(i):\n",
      "    # simulate new data coming in\n",
      "    n, bins = np.histogram(data[:i+1], 50)\n",
      "    top = bottom + n\n",
      "    verts[1::5,1] = top\n",
      "    verts[2::5,1] = top\n",
      "\n",
      "anim = animation.FuncAnimation(fig, animate, 1000, repeat=False)\n",
      "\n",
      "# display the animation\n",
      "display_animation(anim)"
     ],
     "language": "python",
     "metadata": {},
     "outputs": [
      {
       "output_type": "stream",
       "stream": "stderr",
       "text": [
        "//anaconda/lib/python2.7/site-packages/matplotlib/animation.py:727: UserWarning: MovieWriter ffmpeg unavailable\n",
        "  warnings.warn(\"MovieWriter %s unavailable\" % writer)\n"
       ]
      },
      {
       "ename": "RuntimeError",
       "evalue": "Error creating movie, return code: 1 Try running with --verbose-debug",
       "output_type": "pyerr",
       "traceback": [
        "\u001b[0;31m---------------------------------------------------------------------------\u001b[0m\n\u001b[0;31mRuntimeError\u001b[0m                              Traceback (most recent call last)",
        "\u001b[0;32m<ipython-input-7-8d67e0f1f626>\u001b[0m in \u001b[0;36m<module>\u001b[0;34m()\u001b[0m\n\u001b[1;32m     56\u001b[0m \u001b[0;34m\u001b[0m\u001b[0m\n\u001b[1;32m     57\u001b[0m \u001b[0;31m# display the animation\u001b[0m\u001b[0;34m\u001b[0m\u001b[0;34m\u001b[0m\u001b[0m\n\u001b[0;32m---> 58\u001b[0;31m \u001b[0mdisplay_animation\u001b[0m\u001b[0;34m(\u001b[0m\u001b[0manim\u001b[0m\u001b[0;34m)\u001b[0m\u001b[0;34m\u001b[0m\u001b[0m\n\u001b[0m",
        "\u001b[0;32m<ipython-input-6-2b8af17cca8f>\u001b[0m in \u001b[0;36mdisplay_animation\u001b[0;34m(anim)\u001b[0m\n\u001b[1;32m     20\u001b[0m \u001b[0;32mdef\u001b[0m \u001b[0mdisplay_animation\u001b[0m\u001b[0;34m(\u001b[0m\u001b[0manim\u001b[0m\u001b[0;34m)\u001b[0m\u001b[0;34m:\u001b[0m\u001b[0;34m\u001b[0m\u001b[0m\n\u001b[1;32m     21\u001b[0m     \u001b[0mplt\u001b[0m\u001b[0;34m.\u001b[0m\u001b[0mclose\u001b[0m\u001b[0;34m(\u001b[0m\u001b[0manim\u001b[0m\u001b[0;34m.\u001b[0m\u001b[0m_fig\u001b[0m\u001b[0;34m)\u001b[0m\u001b[0;34m\u001b[0m\u001b[0m\n\u001b[0;32m---> 22\u001b[0;31m     \u001b[0;32mreturn\u001b[0m \u001b[0mHTML\u001b[0m\u001b[0;34m(\u001b[0m\u001b[0manim_to_html\u001b[0m\u001b[0;34m(\u001b[0m\u001b[0manim\u001b[0m\u001b[0;34m)\u001b[0m\u001b[0;34m)\u001b[0m\u001b[0;34m\u001b[0m\u001b[0m\n\u001b[0m\u001b[1;32m     23\u001b[0m \u001b[0;34m\u001b[0m\u001b[0m\n",
        "\u001b[0;32m<ipython-input-6-2b8af17cca8f>\u001b[0m in \u001b[0;36manim_to_html\u001b[0;34m(anim)\u001b[0m\n\u001b[1;32m     11\u001b[0m     \u001b[0;32mif\u001b[0m \u001b[0;32mnot\u001b[0m \u001b[0mhasattr\u001b[0m\u001b[0;34m(\u001b[0m\u001b[0manim\u001b[0m\u001b[0;34m,\u001b[0m \u001b[0;34m'_encoded_video'\u001b[0m\u001b[0;34m)\u001b[0m\u001b[0;34m:\u001b[0m\u001b[0;34m\u001b[0m\u001b[0m\n\u001b[1;32m     12\u001b[0m         \u001b[0;32mwith\u001b[0m \u001b[0mNamedTemporaryFile\u001b[0m\u001b[0;34m(\u001b[0m\u001b[0msuffix\u001b[0m\u001b[0;34m=\u001b[0m\u001b[0;34m'.mp4'\u001b[0m\u001b[0;34m)\u001b[0m \u001b[0;32mas\u001b[0m \u001b[0mf\u001b[0m\u001b[0;34m:\u001b[0m\u001b[0;34m\u001b[0m\u001b[0m\n\u001b[0;32m---> 13\u001b[0;31m             \u001b[0manim\u001b[0m\u001b[0;34m.\u001b[0m\u001b[0msave\u001b[0m\u001b[0;34m(\u001b[0m\u001b[0mf\u001b[0m\u001b[0;34m.\u001b[0m\u001b[0mname\u001b[0m\u001b[0;34m,\u001b[0m \u001b[0mfps\u001b[0m\u001b[0;34m=\u001b[0m\u001b[0;36m20\u001b[0m\u001b[0;34m,\u001b[0m \u001b[0mextra_args\u001b[0m\u001b[0;34m=\u001b[0m\u001b[0;34m[\u001b[0m\u001b[0;34m'-vcodec'\u001b[0m\u001b[0;34m,\u001b[0m \u001b[0;34m'libx264'\u001b[0m\u001b[0;34m]\u001b[0m\u001b[0;34m)\u001b[0m\u001b[0;34m\u001b[0m\u001b[0m\n\u001b[0m\u001b[1;32m     14\u001b[0m             \u001b[0mvideo\u001b[0m \u001b[0;34m=\u001b[0m \u001b[0mopen\u001b[0m\u001b[0;34m(\u001b[0m\u001b[0mf\u001b[0m\u001b[0;34m.\u001b[0m\u001b[0mname\u001b[0m\u001b[0;34m,\u001b[0m \u001b[0;34m\"rb\"\u001b[0m\u001b[0;34m)\u001b[0m\u001b[0;34m.\u001b[0m\u001b[0mread\u001b[0m\u001b[0;34m(\u001b[0m\u001b[0;34m)\u001b[0m\u001b[0;34m\u001b[0m\u001b[0m\n\u001b[1;32m     15\u001b[0m         \u001b[0manim\u001b[0m\u001b[0;34m.\u001b[0m\u001b[0m_encoded_video\u001b[0m \u001b[0;34m=\u001b[0m \u001b[0mvideo\u001b[0m\u001b[0;34m.\u001b[0m\u001b[0mencode\u001b[0m\u001b[0;34m(\u001b[0m\u001b[0;34m\"base64\"\u001b[0m\u001b[0;34m)\u001b[0m\u001b[0;34m\u001b[0m\u001b[0m\n",
        "\u001b[0;32m//anaconda/lib/python2.7/site-packages/matplotlib/animation.pyc\u001b[0m in \u001b[0;36msave\u001b[0;34m(self, filename, writer, fps, dpi, codec, bitrate, extra_args, metadata, extra_anim, savefig_kwargs)\u001b[0m\n\u001b[1;32m    750\u001b[0m                     \u001b[0;31m#TODO: Need to see if turning off blit is really necessary\u001b[0m\u001b[0;34m\u001b[0m\u001b[0;34m\u001b[0m\u001b[0m\n\u001b[1;32m    751\u001b[0m                     \u001b[0manim\u001b[0m\u001b[0;34m.\u001b[0m\u001b[0m_draw_next_frame\u001b[0m\u001b[0;34m(\u001b[0m\u001b[0md\u001b[0m\u001b[0;34m,\u001b[0m \u001b[0mblit\u001b[0m\u001b[0;34m=\u001b[0m\u001b[0mFalse\u001b[0m\u001b[0;34m)\u001b[0m\u001b[0;34m\u001b[0m\u001b[0m\n\u001b[0;32m--> 752\u001b[0;31m                 \u001b[0mwriter\u001b[0m\u001b[0;34m.\u001b[0m\u001b[0mgrab_frame\u001b[0m\u001b[0;34m(\u001b[0m\u001b[0;34m**\u001b[0m\u001b[0msavefig_kwargs\u001b[0m\u001b[0;34m)\u001b[0m\u001b[0;34m\u001b[0m\u001b[0m\n\u001b[0m\u001b[1;32m    753\u001b[0m \u001b[0;34m\u001b[0m\u001b[0m\n\u001b[1;32m    754\u001b[0m         \u001b[0;31m# Reconnect signal for first draw if necessary\u001b[0m\u001b[0;34m\u001b[0m\u001b[0;34m\u001b[0m\u001b[0m\n",
        "\u001b[0;32m//anaconda/lib/python2.7/contextlib.pyc\u001b[0m in \u001b[0;36m__exit__\u001b[0;34m(self, type, value, traceback)\u001b[0m\n\u001b[1;32m     22\u001b[0m         \u001b[0;32mif\u001b[0m \u001b[0mtype\u001b[0m \u001b[0;32mis\u001b[0m \u001b[0mNone\u001b[0m\u001b[0;34m:\u001b[0m\u001b[0;34m\u001b[0m\u001b[0m\n\u001b[1;32m     23\u001b[0m             \u001b[0;32mtry\u001b[0m\u001b[0;34m:\u001b[0m\u001b[0;34m\u001b[0m\u001b[0m\n\u001b[0;32m---> 24\u001b[0;31m                 \u001b[0mself\u001b[0m\u001b[0;34m.\u001b[0m\u001b[0mgen\u001b[0m\u001b[0;34m.\u001b[0m\u001b[0mnext\u001b[0m\u001b[0;34m(\u001b[0m\u001b[0;34m)\u001b[0m\u001b[0;34m\u001b[0m\u001b[0m\n\u001b[0m\u001b[1;32m     25\u001b[0m             \u001b[0;32mexcept\u001b[0m \u001b[0mStopIteration\u001b[0m\u001b[0;34m:\u001b[0m\u001b[0;34m\u001b[0m\u001b[0m\n\u001b[1;32m     26\u001b[0m                 \u001b[0;32mreturn\u001b[0m\u001b[0;34m\u001b[0m\u001b[0m\n",
        "\u001b[0;32m//anaconda/lib/python2.7/site-packages/matplotlib/animation.pyc\u001b[0m in \u001b[0;36msaving\u001b[0;34m(self, *args)\u001b[0m\n\u001b[1;32m    175\u001b[0m         \u001b[0mself\u001b[0m\u001b[0;34m.\u001b[0m\u001b[0msetup\u001b[0m\u001b[0;34m(\u001b[0m\u001b[0;34m*\u001b[0m\u001b[0margs\u001b[0m\u001b[0;34m)\u001b[0m\u001b[0;34m\u001b[0m\u001b[0m\n\u001b[1;32m    176\u001b[0m         \u001b[0;32myield\u001b[0m\u001b[0;34m\u001b[0m\u001b[0m\n\u001b[0;32m--> 177\u001b[0;31m         \u001b[0mself\u001b[0m\u001b[0;34m.\u001b[0m\u001b[0mfinish\u001b[0m\u001b[0;34m(\u001b[0m\u001b[0;34m)\u001b[0m\u001b[0;34m\u001b[0m\u001b[0m\n\u001b[0m\u001b[1;32m    178\u001b[0m \u001b[0;34m\u001b[0m\u001b[0m\n\u001b[1;32m    179\u001b[0m     \u001b[0;32mdef\u001b[0m \u001b[0m_run\u001b[0m\u001b[0;34m(\u001b[0m\u001b[0mself\u001b[0m\u001b[0;34m)\u001b[0m\u001b[0;34m:\u001b[0m\u001b[0;34m\u001b[0m\u001b[0m\n",
        "\u001b[0;32m//anaconda/lib/python2.7/site-packages/matplotlib/animation.pyc\u001b[0m in \u001b[0;36mfinish\u001b[0;34m(self)\u001b[0m\n\u001b[1;32m    363\u001b[0m             raise RuntimeError('Error creating movie, return code: '\n\u001b[1;32m    364\u001b[0m                                \u001b[0;34m+\u001b[0m \u001b[0mstr\u001b[0m\u001b[0;34m(\u001b[0m\u001b[0mself\u001b[0m\u001b[0;34m.\u001b[0m\u001b[0m_proc\u001b[0m\u001b[0;34m.\u001b[0m\u001b[0mreturncode\u001b[0m\u001b[0;34m)\u001b[0m\u001b[0;34m\u001b[0m\u001b[0m\n\u001b[0;32m--> 365\u001b[0;31m                                + ' Try running with --verbose-debug')\n\u001b[0m\u001b[1;32m    366\u001b[0m \u001b[0;34m\u001b[0m\u001b[0m\n\u001b[1;32m    367\u001b[0m     \u001b[0;32mdef\u001b[0m \u001b[0mcleanup\u001b[0m\u001b[0;34m(\u001b[0m\u001b[0mself\u001b[0m\u001b[0;34m)\u001b[0m\u001b[0;34m:\u001b[0m\u001b[0;34m\u001b[0m\u001b[0m\n",
        "\u001b[0;31mRuntimeError\u001b[0m: Error creating movie, return code: 1 Try running with --verbose-debug"
       ]
      }
     ],
     "prompt_number": 7
    },
    {
     "cell_type": "heading",
     "level": 3,
     "metadata": {},
     "source": [
      "Bayesian Updating"
     ]
    },
    {
     "cell_type": "markdown",
     "metadata": {},
     "source": [
      "Here we are using successive Bernoilli trials to update our estimate"
     ]
    },
    {
     "cell_type": "code",
     "collapsed": false,
     "input": [
      "from matplotlib.animation import FuncAnimation\n",
      "\n",
      "\n",
      "class UpdateDist(object):\n",
      "    def __init__(self, ax, prob=0.5):\n",
      "        self.success = 0\n",
      "        self.prob = prob\n",
      "        self.line, = ax.plot([], [], 'k-')\n",
      "        self.x = np.linspace(0, 1, 200)\n",
      "        self.ax = ax\n",
      "\n",
      "        # Set up plot parameters\n",
      "        self.ax.set_xlim(0, 1)\n",
      "        self.ax.set_ylim(0, 15)\n",
      "        self.ax.grid(True)\n",
      "\n",
      "        # a line to show our 'prob'\n",
      "        self.ax.axvline(prob, linestyle='--', color='black')\n",
      "\n",
      "    def init(self):\n",
      "        self.success = 0\n",
      "        self.line.set_data([], [])\n",
      " #       return self.line,\n",
      "\n",
      "    def __call__(self, i):\n",
      "        # This way the plot can continuously run and we just keep\n",
      "        # watching new realizations of the process\n",
      "        if i == 0:\n",
      "            pass    \n",
      "#            return self.init()\n",
      "\n",
      "        # Choose success based on exceed a threshold with a uniform pick\n",
      "        if np.random.rand(1,) < self.prob:\n",
      "            self.success += 1\n",
      "        y = beta.pdf(self.x, self.success + 1, (i - self.success) + 1)\n",
      "        self.line.set_data(self.x, y)\n",
      "#        return self.line,\n",
      "\n",
      "fig = plt.figure()\n",
      "ax = fig.add_subplot(1, 1, 1)\n",
      "ud = UpdateDist(ax, prob=0.7)\n",
      "anim = FuncAnimation(fig, ud, frames=np.arange(100), init_func=ud.init,\n",
      "        interval=100, repeat=False)\n",
      "\n",
      "display_animation(anim)"
     ],
     "language": "python",
     "metadata": {},
     "outputs": []
    }
   ],
   "metadata": {}
  }
 ]
}